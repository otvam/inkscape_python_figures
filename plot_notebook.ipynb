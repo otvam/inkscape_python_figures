{
 "cells": [
  {
   "cell_type": "markdown",
   "id": "3d3a18de-067f-4deb-9fc9-59cf31ca10f8",
   "metadata": {},
   "source": [
    "# Plot with Jupyter\n",
    "\n",
    "---\n",
    "\n",
    "Example for a Matplotlib histogram with Jupyter.\n",
    "\n",
    "---\n",
    "\n",
    "**Thomas Guillod - Dartmouth College**\n",
    "\n",
    "Mozilla Public License Version 2.0\n",
    "\n",
    "---"
   ]
  },
  {
   "cell_type": "code",
   "execution_count": null,
   "id": "1e2c2982-9dac-48ab-baeb-6aa9af9d52fa",
   "metadata": {},
   "outputs": [],
   "source": [
    "import os\n",
    "import numpy as np\n",
    "import matplotlib.pyplot as plt\n",
    "import utils_mpl"
   ]
  },
  {
   "cell_type": "code",
   "execution_count": null,
   "id": "f6f6994e-cca5-4634-8103-1d94d9e579ef",
   "metadata": {},
   "outputs": [],
   "source": [
    "# set global parameters\n",
    "utils_mpl.set_global()\n",
    "\n",
    "# create the output folder\n",
    "os.makedirs(\"render\", exist_ok=True)"
   ]
  },
  {
   "cell_type": "code",
   "execution_count": null,
   "id": "5b54f39b-d800-4e6c-9d9f-d662c8538fcb",
   "metadata": {},
   "outputs": [],
   "source": [
    "# define dummy data\n",
    "x = np.random.rayleigh(size=500)\n",
    "y = np.random.normal(size=500)\n",
    "\n",
    "# get the axis ticks\n",
    "xticks = np.linspace(-2.0, +3.0, 6)\n",
    "yticks = np.linspace(0.0, 150.0, 6)"
   ]
  },
  {
   "cell_type": "code",
   "execution_count": null,
   "id": "9dc720db-3a1d-4cc8-bd2a-34b41cb9b34e",
   "metadata": {},
   "outputs": [],
   "source": [
    "# create a figure with a determined size\n",
    "(fig, ax) = utils_mpl.get_fig(size=(3.5, 3.0), dpi=200)\n",
    "\n",
    "# add the histograms\n",
    "plt.hist(x, color=\"r\", label=\"x\", alpha=0.5)\n",
    "plt.hist(y, color=\"g\", label=\"y\", alpha=0.5)\n",
    "\n",
    "# set the x-axis limit and format\n",
    "utils_mpl.set_x_axis(bnd=xticks, add_offset=0.1)\n",
    "utils_mpl.set_format(ax.xaxis, ticks=xticks, fmt=\"${x:+.1f}$\")\n",
    "\n",
    "# set the y-axis limit and format\n",
    "utils_mpl.set_y_axis(bnd=yticks, add_offset=0.0)\n",
    "utils_mpl.set_format(ax.yaxis, ticks=yticks, fmt=\"${x:.0f}$\")\n",
    "\n",
    "# set the legend and labels\n",
    "ax.legend(loc=\"upper right\")\n",
    "ax.set_xlabel(\"x-axis (unit)\")\n",
    "ax.set_ylabel(\"y-axis (unit)\")\n",
    "ax.set_title(\"Plot Title\")\n",
    "\n",
    "# set the grid\n",
    "utils_mpl.set_grid(ax)"
   ]
  },
  {
   "cell_type": "code",
   "execution_count": null,
   "id": "6bc6e738-f72e-4e5b-8a7e-60b46c1f9f20",
   "metadata": {},
   "outputs": [],
   "source": [
    "# save the plot for Inkscape\n",
    "utils_mpl.save_svg(fig, \"render/histogram.svg\")"
   ]
  }
 ],
 "metadata": {
  "kernelspec": {
   "display_name": "Python 3 (ipykernel)",
   "language": "python",
   "name": "python3"
  },
  "language_info": {
   "codemirror_mode": {
    "name": "ipython",
    "version": 3
   },
   "file_extension": ".py",
   "mimetype": "text/x-python",
   "name": "python",
   "nbconvert_exporter": "python",
   "pygments_lexer": "ipython3",
   "version": "3.12.3"
  }
 },
 "nbformat": 4,
 "nbformat_minor": 5
}
